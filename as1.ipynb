{
  "cells": [
    {
      "cell_type": "markdown",
      "metadata": {
        "id": "view-in-github",
        "colab_type": "text"
      },
      "source": [
        "<a href=\"https://colab.research.google.com/github/Maxim-Ciobanu/Quantum/blob/main/as1.ipynb\" target=\"_parent\"><img src=\"https://colab.research.google.com/assets/colab-badge.svg\" alt=\"Open In Colab\"/></a>"
      ]
    },
    {
      "cell_type": "markdown",
      "source": [
        "**Objective**\n",
        "\n",
        "The goal is to understand the concepts. We encourage you to think through the problem set individually. Please do not use any external resources (google search, Colab AI and similar technologies).\n",
        "\n",
        "\n",
        "1. Complete all the cells in the notebook.\n",
        "\n",
        "2. Generate PDF version of the complete notebook (using Print option) and save to your computer.\n",
        "\n",
        "3. Upload the PDF to moodle.\n",
        "\n"
      ],
      "metadata": {
        "id": "YJSL2BuhmmrE"
      }
    },
    {
      "cell_type": "code",
      "execution_count": 1,
      "metadata": {
        "colab": {
          "base_uri": "https://localhost:8080/"
        },
        "id": "qjIVcopGkeVP",
        "outputId": "ab57b707-3120-4f0b-89b2-0201f2cc5d4a"
      },
      "outputs": [
        {
          "output_type": "stream",
          "name": "stdout",
          "text": [
            "Collecting qiskit\n",
            "  Downloading qiskit-1.3.2-cp39-abi3-manylinux_2_17_x86_64.manylinux2014_x86_64.whl.metadata (12 kB)\n",
            "Collecting qiskit-aer\n",
            "  Downloading qiskit_aer-0.16.0-cp311-cp311-manylinux_2_17_x86_64.manylinux2014_x86_64.whl.metadata (8.2 kB)\n",
            "Collecting rustworkx>=0.15.0 (from qiskit)\n",
            "  Downloading rustworkx-0.16.0-cp39-abi3-manylinux_2_17_x86_64.manylinux2014_x86_64.whl.metadata (10 kB)\n",
            "Requirement already satisfied: numpy<3,>=1.17 in /usr/local/lib/python3.11/dist-packages (from qiskit) (1.26.4)\n",
            "Requirement already satisfied: scipy>=1.5 in /usr/local/lib/python3.11/dist-packages (from qiskit) (1.13.1)\n",
            "Requirement already satisfied: sympy>=1.3 in /usr/local/lib/python3.11/dist-packages (from qiskit) (1.13.1)\n",
            "Collecting dill>=0.3 (from qiskit)\n",
            "  Downloading dill-0.3.9-py3-none-any.whl.metadata (10 kB)\n",
            "Requirement already satisfied: python-dateutil>=2.8.0 in /usr/local/lib/python3.11/dist-packages (from qiskit) (2.8.2)\n",
            "Collecting stevedore>=3.0.0 (from qiskit)\n",
            "  Downloading stevedore-5.4.0-py3-none-any.whl.metadata (2.3 kB)\n",
            "Requirement already satisfied: typing-extensions in /usr/local/lib/python3.11/dist-packages (from qiskit) (4.12.2)\n",
            "Collecting symengine<0.14,>=0.11 (from qiskit)\n",
            "  Downloading symengine-0.13.0-cp311-cp311-manylinux_2_17_x86_64.manylinux2014_x86_64.whl.metadata (1.2 kB)\n",
            "Requirement already satisfied: psutil>=5 in /usr/local/lib/python3.11/dist-packages (from qiskit-aer) (5.9.5)\n",
            "Requirement already satisfied: six>=1.5 in /usr/local/lib/python3.11/dist-packages (from python-dateutil>=2.8.0->qiskit) (1.17.0)\n",
            "Collecting pbr>=2.0.0 (from stevedore>=3.0.0->qiskit)\n",
            "  Downloading pbr-6.1.0-py2.py3-none-any.whl.metadata (3.4 kB)\n",
            "Requirement already satisfied: mpmath<1.4,>=1.1.0 in /usr/local/lib/python3.11/dist-packages (from sympy>=1.3->qiskit) (1.3.0)\n",
            "Downloading qiskit-1.3.2-cp39-abi3-manylinux_2_17_x86_64.manylinux2014_x86_64.whl (6.8 MB)\n",
            "\u001b[2K   \u001b[90m━━━━━━━━━━━━━━━━━━━━━━━━━━━━━━━━━━━━━━━━\u001b[0m \u001b[32m6.8/6.8 MB\u001b[0m \u001b[31m19.7 MB/s\u001b[0m eta \u001b[36m0:00:00\u001b[0m\n",
            "\u001b[?25hDownloading qiskit_aer-0.16.0-cp311-cp311-manylinux_2_17_x86_64.manylinux2014_x86_64.whl (12.4 MB)\n",
            "\u001b[2K   \u001b[90m━━━━━━━━━━━━━━━━━━━━━━━━━━━━━━━━━━━━━━━━\u001b[0m \u001b[32m12.4/12.4 MB\u001b[0m \u001b[31m16.9 MB/s\u001b[0m eta \u001b[36m0:00:00\u001b[0m\n",
            "\u001b[?25hDownloading dill-0.3.9-py3-none-any.whl (119 kB)\n",
            "\u001b[2K   \u001b[90m━━━━━━━━━━━━━━━━━━━━━━━━━━━━━━━━━━━━━━━━\u001b[0m \u001b[32m119.4/119.4 kB\u001b[0m \u001b[31m5.9 MB/s\u001b[0m eta \u001b[36m0:00:00\u001b[0m\n",
            "\u001b[?25hDownloading rustworkx-0.16.0-cp39-abi3-manylinux_2_17_x86_64.manylinux2014_x86_64.whl (2.1 MB)\n",
            "\u001b[2K   \u001b[90m━━━━━━━━━━━━━━━━━━━━━━━━━━━━━━━━━━━━━━━━\u001b[0m \u001b[32m2.1/2.1 MB\u001b[0m \u001b[31m16.1 MB/s\u001b[0m eta \u001b[36m0:00:00\u001b[0m\n",
            "\u001b[?25hDownloading stevedore-5.4.0-py3-none-any.whl (49 kB)\n",
            "\u001b[2K   \u001b[90m━━━━━━━━━━━━━━━━━━━━━━━━━━━━━━━━━━━━━━━━\u001b[0m \u001b[32m49.5/49.5 kB\u001b[0m \u001b[31m2.1 MB/s\u001b[0m eta \u001b[36m0:00:00\u001b[0m\n",
            "\u001b[?25hDownloading symengine-0.13.0-cp311-cp311-manylinux_2_17_x86_64.manylinux2014_x86_64.whl (49.7 MB)\n",
            "\u001b[2K   \u001b[90m━━━━━━━━━━━━━━━━━━━━━━━━━━━━━━━━━━━━━━━━\u001b[0m \u001b[32m49.7/49.7 MB\u001b[0m \u001b[31m15.1 MB/s\u001b[0m eta \u001b[36m0:00:00\u001b[0m\n",
            "\u001b[?25hDownloading pbr-6.1.0-py2.py3-none-any.whl (108 kB)\n",
            "\u001b[2K   \u001b[90m━━━━━━━━━━━━━━━━━━━━━━━━━━━━━━━━━━━━━━━━\u001b[0m \u001b[32m108.5/108.5 kB\u001b[0m \u001b[31m5.8 MB/s\u001b[0m eta \u001b[36m0:00:00\u001b[0m\n",
            "\u001b[?25hInstalling collected packages: symengine, rustworkx, pbr, dill, stevedore, qiskit, qiskit-aer\n",
            "Successfully installed dill-0.3.9 pbr-6.1.0 qiskit-1.3.2 qiskit-aer-0.16.0 rustworkx-0.16.0 stevedore-5.4.0 symengine-0.13.0\n"
          ]
        }
      ],
      "source": [
        "!pip install qiskit qiskit-aer\n",
        "\n",
        "import pandas as pd\n",
        "import numpy as np\n",
        "from qiskit import *\n",
        "%matplotlib inline"
      ]
    },
    {
      "cell_type": "markdown",
      "metadata": {
        "id": "0sqXdL9DkeVP"
      },
      "source": [
        "\n",
        "**Assignment I**\n",
        "\n",
        "Let's use qiskit to create the $X, CNOT, SWAP$ gates. Qiskit allows for the declaration of classical bits (c-bits); we will not use them here. Each bit declared here would be a quantum bit (q-bit). We will see the definition of the q-bit in the next chapter.\n",
        "\n",
        "The steps to follow are:\n",
        "+ Load the `QuantumCircuit` package from the qiskit library.\n",
        "+ Declare a Quantum Circuit.\n",
        "+ Apply the gate (or a series of gates) on the selected q-bits.\n",
        "+ Print the circuit using `draw()` function.\n",
        "\n",
        "\n",
        "The q-bits are also called wires, and they are numbered $0,1,2, \\ldots$. The code below is the application of the `X` gate to a single q-bit.\n",
        "\n",
        "\n",
        "\n"
      ]
    },
    {
      "cell_type": "code",
      "execution_count": 2,
      "metadata": {
        "colab": {
          "base_uri": "https://localhost:8080/"
        },
        "id": "gL39yN2UkeVQ",
        "outputId": "1f1f508f-9967-4781-da74-a158d44010f1"
      },
      "outputs": [
        {
          "output_type": "stream",
          "name": "stdout",
          "text": [
            "   ┌───┐\n",
            "q: ┤ X ├\n",
            "   └───┘\n"
          ]
        }
      ],
      "source": [
        "\n",
        "c = QuantumCircuit(1)   # create a single q-bit\n",
        "c.x(0)                  # apply the X gate to q-bit 0\n",
        "print(c.draw())"
      ]
    },
    {
      "cell_type": "markdown",
      "metadata": {
        "deletable": false,
        "editable": false,
        "id": "EEjp9dzfkeVQ"
      },
      "source": [
        "<!-- BEGIN QUESTION -->\n",
        "\n",
        "**Question 1:** Generalize the code above to implement a `SWAP` gate. Recall that\n",
        "\n",
        "$$SWAP ~|x\\rangle|y\\rangle = CNOT_{ct} CNOT_{tc} CNOT_{ct} ~|y\\rangle|x\\rangle $$\n",
        "\n",
        "The function for the `CNOT` gate is `c.cx(c,t)` where `c,t` are the indices of the control and the target q-bit, respectively."
      ]
    },
    {
      "cell_type": "code",
      "execution_count": 3,
      "metadata": {
        "tags": [],
        "id": "Efrzo3nLkeVQ",
        "colab": {
          "base_uri": "https://localhost:8080/"
        },
        "outputId": "ad0110dc-ed3c-4594-b6be-f33b6132d3d4"
      },
      "outputs": [
        {
          "output_type": "stream",
          "name": "stdout",
          "text": [
            "          ┌───┐     \n",
            "q_0: ──■──┤ X ├──■──\n",
            "     ┌─┴─┐└─┬─┘┌─┴─┐\n",
            "q_1: ┤ X ├──■──┤ X ├\n",
            "     └───┘     └───┘\n"
          ]
        }
      ],
      "source": [
        "from qiskit import QuantumCircuit\n",
        "\n",
        "c = QuantumCircuit(2)       # create two q-bits\n",
        "c.cx(0,1)\n",
        "c.cx(1,0)\n",
        "c.cx(0,1)\n",
        "print(c.draw())"
      ]
    },
    {
      "cell_type": "markdown",
      "metadata": {
        "deletable": false,
        "editable": false,
        "id": "xDx2Sdu1keVR"
      },
      "source": [
        "<!-- END QUESTION -->\n",
        "\n",
        "<!-- BEGIN QUESTION -->\n",
        "\n",
        "**Question 2:** The next step is to run or execute these circuits. For now, we will use software simulators (not a real quantum computer). The boilerplate code below shows how to execute the circuit and obtain the final state (a column vector).\n",
        "\n",
        "By default, all the q-bits are in state $|0\\rangle$, so the circuit `c` will be executed on $|00\\rangle$, which is not an interesting test case for the `SWAP` gate. Let's provide $|01\\rangle$ as the input state. This input state can be obtained by applying the `X` gate to the second q-bit. The output of a quantum circuit can only be accessed by making a measurement (using the function `measure()`). The output of the circuit is stored in classical bits, so we need to declare a quantum circuit with two q-bits and two c-bits using `QuantumCircuit(2,2).`\n",
        "\n",
        "Add the missing code below to make sure that the input state is $|1\\rangle |0\\rangle$. First q-bit is on the left.\n",
        "\n"
      ]
    },
    {
      "cell_type": "code",
      "execution_count": 9,
      "metadata": {
        "tags": [],
        "id": "jAxlFbrhkeVR",
        "colab": {
          "base_uri": "https://localhost:8080/"
        },
        "outputId": "d90308f1-acef-4c14-945d-6ffea9fa8531"
      },
      "outputs": [
        {
          "output_type": "stream",
          "name": "stdout",
          "text": [
            "Statevector([0.+0.j, 0.+0.j, 1.+0.j, 0.+0.j],\n",
            "            dims=(2, 2))\n"
          ]
        }
      ],
      "source": [
        "from qiskit_aer import AerSimulator\n",
        "\n",
        "# create the circuit to run make sure that the input is |01>\n",
        "c = QuantumCircuit(2,2)       # create 2 q-bits and 2 c-bits to store the result\n",
        "\n",
        "# We flip the first q-bit so that the first q-bit on the left is 1\n",
        "c.x(0)\n",
        "\n",
        "c.cx(0,1)\n",
        "c.cx(1,0)\n",
        "c.cx(0,1)\n",
        "c.measure([0,1], [0,1])\n",
        "c.save_statevector()          # save the state vector\n",
        "\n",
        "# I do not apreciate little-endian bit ordering\n",
        "# https://docs.quantum.ibm.com/guides/bit-ordering\n",
        "# It mkes reading the states confusing :)\n",
        "\n",
        "\n",
        "simulator_aer = AerSimulator(method=\"statevector\")\n",
        "result_aer = simulator_aer.run(c).result()\n",
        "finalstate = result_aer.get_statevector(c)\n",
        "print(finalstate)\n"
      ]
    },
    {
      "cell_type": "markdown",
      "metadata": {
        "deletable": false,
        "editable": false,
        "id": "aXTVsLaikeVR"
      },
      "source": [
        "<!-- END QUESTION -->\n",
        "\n",
        "**Question 3:** Answer the following:\n",
        "\n",
        "+ What is the state reported as the output in Question 2?\n",
        "+ What is the matrix description of the `SWAP` gate\n",
        "+ What is the vector representation of $|10\\rangle$\n",
        "+ Use matrix multiplication to obtain the final state.\n",
        "\n",
        "Explain the operation of the circuit above as a matrix-vector multiplication.\n",
        "\n"
      ]
    },
    {
      "cell_type": "markdown",
      "metadata": {
        "id": "LMNMRJ1mkeVR"
      },
      "source": [
        ".\n",
        "\n",
        ".\n",
        "\n",
        ".\n",
        "\n",
        ".\n",
        "\n",
        ".\n",
        "\n",
        ".\n",
        "\n",
        ".\n",
        "\n",
        "."
      ]
    },
    {
      "cell_type": "markdown",
      "metadata": {
        "deletable": false,
        "editable": false,
        "id": "uUlPFnlDkeVR"
      },
      "source": [
        "**Question 4:** Implement the following circuits:\n",
        "\n",
        "+ H Z H\n",
        "+ Z X Z"
      ]
    },
    {
      "cell_type": "code",
      "execution_count": null,
      "metadata": {
        "tags": [],
        "id": "FTeCci0WkeVS",
        "colab": {
          "base_uri": "https://localhost:8080/"
        },
        "outputId": "4a26a0e3-a076-4560-8e77-e9a92a397c65"
      },
      "outputs": [
        {
          "output_type": "stream",
          "name": "stdout",
          "text": [
            "   \n",
            "q: \n",
            "   \n",
            "   \n",
            "q: \n",
            "   \n"
          ]
        }
      ],
      "source": [
        "from qiskit import QuantumCircuit\n",
        "\n",
        "c = QuantumCircuit(1)       # create single q-bit\n",
        "...\n",
        "...\n",
        "...\n",
        "print(c.draw())\n",
        "\n",
        "c = QuantumCircuit(1)       # create single q-bit\n",
        "...\n",
        "...\n",
        "...\n",
        "print(c.draw())"
      ]
    },
    {
      "cell_type": "markdown",
      "metadata": {
        "deletable": false,
        "editable": false,
        "id": "roW719WdkeVS"
      },
      "source": [
        "**Question 5:** Explain the following equalities\n",
        "\n",
        "$$ Z = H X H $$\n",
        "$$ X = H Z H $$\n",
        "\n",
        "You may use the matrix description of these gates and perform the matrix\n",
        "multiplication on the right-hand side to obtain the matrix on the left-hand side.\n"
      ]
    },
    {
      "cell_type": "markdown",
      "metadata": {
        "id": "li0mdSsUkeVS"
      },
      "source": [
        "$ H = $\n",
        "\n",
        ".\n",
        "\n",
        ".\n",
        "\n",
        "$ Z = $\n",
        "\n",
        ".\n",
        "\n",
        ".\n",
        "\n",
        "$ X = $\n",
        "\n",
        ".\n",
        "\n",
        ".\n",
        "\n",
        "$H X H = $\n",
        "\n",
        ".\n",
        "\n",
        ".\n",
        "\n",
        "$ H Z H = $\n",
        "\n",
        ".\n",
        "\n",
        "."
      ]
    },
    {
      "cell_type": "markdown",
      "metadata": {
        "deletable": false,
        "editable": false,
        "id": "apGolfGTkeVS"
      },
      "source": [
        "<!-- BEGIN QUESTION -->\n",
        "\n",
        "**Question 6:** Consider the circuit below. It uses controlled `Sx`gate. The matrix description for the `Sx` gate is below.\n",
        "\n",
        "$$\n",
        "Sx = \\frac{1}{2}\\begin{bmatrix}\n",
        "1+i & 1-i \\\\\n",
        "1-i & 1+i\n",
        "\\end{bmatrix}\n",
        "$$\n",
        "\n",
        "The action of the circuit is given the following expression.\n",
        "\n",
        "$$I \\otimes (|0\\rangle\\langle0| \\otimes I + |1\\rangle\\langle1|\\otimes Sx  )$$\n",
        "\n",
        "We will compute the matrix representation of the expression above. Note that it will be a $8\\times 8$ matrix. Recall that $i^2 = -1$. We will use Python to do this calculation. The tensor product $A \\otimes B$ is computed using the `np.kron(A,B)`. Fill in the missing parts in the code below."
      ]
    },
    {
      "cell_type": "code",
      "execution_count": null,
      "metadata": {
        "colab": {
          "base_uri": "https://localhost:8080/"
        },
        "id": "T4ZWg_dykeVS",
        "outputId": "bb9ae7a1-5cae-404e-f00e-95cc1b550d92"
      },
      "outputs": [
        {
          "output_type": "stream",
          "name": "stdout",
          "text": [
            "           \n",
            "q_0: ──────\n",
            "           \n",
            "q_1: ──■───\n",
            "     ┌─┴──┐\n",
            "q_2: ┤ Sx ├\n",
            "     └────┘\n"
          ]
        }
      ],
      "source": [
        "from qiskit import QuantumCircuit\n",
        "\n",
        "c = QuantumCircuit(3)\n",
        "c.csx(1,2)\n",
        "print(c.draw())"
      ]
    },
    {
      "cell_type": "code",
      "execution_count": null,
      "metadata": {
        "tags": [],
        "id": "tC5uvDoBkeVT",
        "colab": {
          "base_uri": "https://localhost:8080/",
          "height": 309
        },
        "outputId": "daff2875-297f-46d7-e716-d78c96e10be9"
      },
      "outputs": [
        {
          "output_type": "stream",
          "name": "stdout",
          "text": [
            "Ellipsis\n"
          ]
        },
        {
          "output_type": "error",
          "ename": "TypeError",
          "evalue": "unsupported operand type(s) for *: 'int' and 'ellipsis'",
          "traceback": [
            "\u001b[0;31m---------------------------------------------------------------------------\u001b[0m",
            "\u001b[0;31mTypeError\u001b[0m                                 Traceback (most recent call last)",
            "\u001b[0;32m<ipython-input-20-c51fb604776d>\u001b[0m in \u001b[0;36m<cell line: 0>\u001b[0;34m()\u001b[0m\n\u001b[1;32m      6\u001b[0m \u001b[0mresult1\u001b[0m \u001b[0;34m=\u001b[0m \u001b[0;34m...\u001b[0m\u001b[0;34m\u001b[0m\u001b[0;34m\u001b[0m\u001b[0m\n\u001b[1;32m      7\u001b[0m \u001b[0mprint\u001b[0m\u001b[0;34m(\u001b[0m\u001b[0mresult1\u001b[0m\u001b[0;34m)\u001b[0m\u001b[0;34m\u001b[0m\u001b[0;34m\u001b[0m\u001b[0m\n\u001b[0;32m----> 8\u001b[0;31m \u001b[0mprint\u001b[0m\u001b[0;34m(\u001b[0m\u001b[0mnp\u001b[0m\u001b[0;34m.\u001b[0m\u001b[0mkron\u001b[0m\u001b[0;34m(\u001b[0m\u001b[0mI\u001b[0m\u001b[0;34m,\u001b[0m \u001b[0mresult1\u001b[0m\u001b[0;34m)\u001b[0m\u001b[0;34m)\u001b[0m\u001b[0;34m\u001b[0m\u001b[0;34m\u001b[0m\u001b[0m\n\u001b[0m",
            "\u001b[0;32m/usr/local/lib/python3.11/dist-packages/numpy/lib/shape_base.py\u001b[0m in \u001b[0;36mkron\u001b[0;34m(a, b)\u001b[0m\n\u001b[1;32m   1150\u001b[0m \u001b[0;34m\u001b[0m\u001b[0m\n\u001b[1;32m   1151\u001b[0m     \u001b[0;32mif\u001b[0m \u001b[0;34m(\u001b[0m\u001b[0mnda\u001b[0m \u001b[0;34m==\u001b[0m \u001b[0;36m0\u001b[0m \u001b[0;32mor\u001b[0m \u001b[0mndb\u001b[0m \u001b[0;34m==\u001b[0m \u001b[0;36m0\u001b[0m\u001b[0;34m)\u001b[0m\u001b[0;34m:\u001b[0m\u001b[0;34m\u001b[0m\u001b[0;34m\u001b[0m\u001b[0m\n\u001b[0;32m-> 1152\u001b[0;31m         \u001b[0;32mreturn\u001b[0m \u001b[0m_nx\u001b[0m\u001b[0;34m.\u001b[0m\u001b[0mmultiply\u001b[0m\u001b[0;34m(\u001b[0m\u001b[0ma\u001b[0m\u001b[0;34m,\u001b[0m \u001b[0mb\u001b[0m\u001b[0;34m)\u001b[0m\u001b[0;34m\u001b[0m\u001b[0;34m\u001b[0m\u001b[0m\n\u001b[0m\u001b[1;32m   1153\u001b[0m \u001b[0;34m\u001b[0m\u001b[0m\n\u001b[1;32m   1154\u001b[0m     \u001b[0mas_\u001b[0m \u001b[0;34m=\u001b[0m \u001b[0ma\u001b[0m\u001b[0;34m.\u001b[0m\u001b[0mshape\u001b[0m\u001b[0;34m\u001b[0m\u001b[0;34m\u001b[0m\u001b[0m\n",
            "\u001b[0;31mTypeError\u001b[0m: unsupported operand type(s) for *: 'int' and 'ellipsis'"
          ]
        }
      ],
      "source": [
        "import numpy as np\n",
        "z = np.matrix([1, 0])\n",
        "o = np.matrix([0,1])\n",
        "I = np.matrix([[1,0],[0,1]])\n",
        "Sx =  ...\n",
        "result1 = ...             # should be 4x4 matrix\n",
        "print(result1)\n",
        "print(np.kron(I, result1))"
      ]
    },
    {
      "cell_type": "markdown",
      "metadata": {
        "deletable": false,
        "editable": false,
        "id": "aNMXO17ckeVT"
      },
      "source": [
        "<!-- END QUESTION -->\n",
        "\n",
        "<!-- BEGIN QUESTION -->\n",
        "\n",
        "**Question 7:**  Compute the Matrix representation for the circuit shown below. Fill in the missing Python code. Does this circuit implement any of the gates we have seen in the class? Explain in either case.\n",
        "\n",
        "To obtain the matrix for the inverse of the `Sx` gate, use `m.H` in Python for any matrix `m`."
      ]
    },
    {
      "cell_type": "code",
      "execution_count": null,
      "metadata": {
        "deletable": false,
        "editable": false,
        "colab": {
          "base_uri": "https://localhost:8080/"
        },
        "id": "zgERoJKGkeVT",
        "outputId": "64d90681-674c-4a14-ea96-f361fbf39624"
      },
      "outputs": [
        {
          "output_type": "stream",
          "name": "stdout",
          "text": [
            "                                   \n",
            "q_0: ────────■────────────■────■───\n",
            "           ┌─┴─┐        ┌─┴─┐  │   \n",
            "q_1: ──■───┤ X ├───■────┤ X ├──┼───\n",
            "     ┌─┴──┐└───┘┌──┴───┐└───┘┌─┴──┐\n",
            "q_2: ┤ Sx ├─────┤ Sxdg ├─────┤ Sx ├\n",
            "     └────┘     └──────┘     └────┘\n"
          ]
        }
      ],
      "source": [
        "from qiskit import QuantumCircuit\n",
        "\n",
        "c = QuantumCircuit(3)\n",
        "c.csx(1,2)\n",
        "c.cx(0,1)\n",
        "c.csx(1,2).inverse()       # note that this is inverse of Sx\n",
        "c.cx(0,1)\n",
        "c.csx(0,2)\n",
        "print(c.draw())"
      ]
    },
    {
      "cell_type": "code",
      "execution_count": null,
      "metadata": {
        "tags": [],
        "id": "9Ox1DnRrkeVT",
        "colab": {
          "base_uri": "https://localhost:8080/",
          "height": 326
        },
        "outputId": "f391fb98-770d-42e2-ccac-adae848f11ef"
      },
      "outputs": [
        {
          "output_type": "error",
          "ename": "TypeError",
          "evalue": "unsupported operand type(s) for *: 'int' and 'ellipsis'",
          "traceback": [
            "\u001b[0;31m---------------------------------------------------------------------------\u001b[0m",
            "\u001b[0;31mTypeError\u001b[0m                                 Traceback (most recent call last)",
            "\u001b[0;32m<ipython-input-22-b06bb09ed873>\u001b[0m in \u001b[0;36m<cell line: 0>\u001b[0;34m()\u001b[0m\n\u001b[1;32m      5\u001b[0m \u001b[0mSx\u001b[0m \u001b[0;34m=\u001b[0m \u001b[0;34m...\u001b[0m\u001b[0;34m\u001b[0m\u001b[0;34m\u001b[0m\u001b[0m\n\u001b[1;32m      6\u001b[0m \u001b[0mX\u001b[0m \u001b[0;34m=\u001b[0m \u001b[0mnp\u001b[0m\u001b[0;34m.\u001b[0m\u001b[0mmatrix\u001b[0m\u001b[0;34m(\u001b[0m\u001b[0;34m[\u001b[0m\u001b[0;34m[\u001b[0m\u001b[0;36m0\u001b[0m\u001b[0;34m,\u001b[0m\u001b[0;36m1\u001b[0m\u001b[0;34m]\u001b[0m\u001b[0;34m,\u001b[0m\u001b[0;34m[\u001b[0m\u001b[0;36m1\u001b[0m\u001b[0;34m,\u001b[0m\u001b[0;36m0\u001b[0m\u001b[0;34m]\u001b[0m\u001b[0;34m]\u001b[0m\u001b[0;34m)\u001b[0m\u001b[0;34m\u001b[0m\u001b[0;34m\u001b[0m\u001b[0m\n\u001b[0;32m----> 7\u001b[0;31m \u001b[0mu1\u001b[0m \u001b[0;34m=\u001b[0m \u001b[0mnp\u001b[0m\u001b[0;34m.\u001b[0m\u001b[0mkron\u001b[0m\u001b[0;34m(\u001b[0m\u001b[0mnp\u001b[0m\u001b[0;34m.\u001b[0m\u001b[0mkron\u001b[0m\u001b[0;34m(\u001b[0m\u001b[0mI\u001b[0m\u001b[0;34m,\u001b[0m \u001b[0mz\u001b[0m\u001b[0;34m.\u001b[0m\u001b[0mT\u001b[0m\u001b[0;34m*\u001b[0m\u001b[0mz\u001b[0m\u001b[0;34m)\u001b[0m\u001b[0;34m,\u001b[0m\u001b[0mI\u001b[0m\u001b[0;34m)\u001b[0m \u001b[0;34m+\u001b[0m  \u001b[0mnp\u001b[0m\u001b[0;34m.\u001b[0m\u001b[0mkron\u001b[0m\u001b[0;34m(\u001b[0m\u001b[0mnp\u001b[0m\u001b[0;34m.\u001b[0m\u001b[0mkron\u001b[0m\u001b[0;34m(\u001b[0m\u001b[0mI\u001b[0m\u001b[0;34m,\u001b[0m \u001b[0mo\u001b[0m\u001b[0;34m.\u001b[0m\u001b[0mT\u001b[0m\u001b[0;34m*\u001b[0m\u001b[0mo\u001b[0m\u001b[0;34m)\u001b[0m\u001b[0;34m,\u001b[0m \u001b[0mSx\u001b[0m\u001b[0;34m)\u001b[0m\u001b[0;34m\u001b[0m\u001b[0;34m\u001b[0m\u001b[0m\n\u001b[0m\u001b[1;32m      8\u001b[0m \u001b[0mu2\u001b[0m \u001b[0;34m=\u001b[0m \u001b[0;34m...\u001b[0m\u001b[0;34m\u001b[0m\u001b[0;34m\u001b[0m\u001b[0m\n\u001b[1;32m      9\u001b[0m \u001b[0mu3\u001b[0m \u001b[0;34m=\u001b[0m \u001b[0;34m...\u001b[0m\u001b[0;34m\u001b[0m\u001b[0;34m\u001b[0m\u001b[0m\n",
            "\u001b[0;32m/usr/local/lib/python3.11/dist-packages/numpy/lib/shape_base.py\u001b[0m in \u001b[0;36mkron\u001b[0;34m(a, b)\u001b[0m\n\u001b[1;32m   1150\u001b[0m \u001b[0;34m\u001b[0m\u001b[0m\n\u001b[1;32m   1151\u001b[0m     \u001b[0;32mif\u001b[0m \u001b[0;34m(\u001b[0m\u001b[0mnda\u001b[0m \u001b[0;34m==\u001b[0m \u001b[0;36m0\u001b[0m \u001b[0;32mor\u001b[0m \u001b[0mndb\u001b[0m \u001b[0;34m==\u001b[0m \u001b[0;36m0\u001b[0m\u001b[0;34m)\u001b[0m\u001b[0;34m:\u001b[0m\u001b[0;34m\u001b[0m\u001b[0;34m\u001b[0m\u001b[0m\n\u001b[0;32m-> 1152\u001b[0;31m         \u001b[0;32mreturn\u001b[0m \u001b[0m_nx\u001b[0m\u001b[0;34m.\u001b[0m\u001b[0mmultiply\u001b[0m\u001b[0;34m(\u001b[0m\u001b[0ma\u001b[0m\u001b[0;34m,\u001b[0m \u001b[0mb\u001b[0m\u001b[0;34m)\u001b[0m\u001b[0;34m\u001b[0m\u001b[0;34m\u001b[0m\u001b[0m\n\u001b[0m\u001b[1;32m   1153\u001b[0m \u001b[0;34m\u001b[0m\u001b[0m\n\u001b[1;32m   1154\u001b[0m     \u001b[0mas_\u001b[0m \u001b[0;34m=\u001b[0m \u001b[0ma\u001b[0m\u001b[0;34m.\u001b[0m\u001b[0mshape\u001b[0m\u001b[0;34m\u001b[0m\u001b[0;34m\u001b[0m\u001b[0m\n",
            "\u001b[0;31mTypeError\u001b[0m: unsupported operand type(s) for *: 'int' and 'ellipsis'"
          ]
        }
      ],
      "source": [
        "import numpy as np\n",
        "z = np.matrix([1, 0])\n",
        "o = np.matrix([0,1])\n",
        "I = np.matrix([[1,0],[0,1]])\n",
        "Sx = ...\n",
        "X = np.matrix([[0,1],[1,0]])\n",
        "u1 = np.kron(np.kron(I, z.T*z),I) +  np.kron(np.kron(I, o.T*o), Sx)\n",
        "u2 = ...\n",
        "u3 = ...\n",
        "u4 = np.kron(np.kron(z.T*z, I),I) +  np.kron(np.kron(o.T*o, X), I)\n",
        "u5 = ...\n",
        "unitary = u1*u2*u3*u4*u5\n",
        "print(unitary.real)\n"
      ]
    },
    {
      "cell_type": "markdown",
      "metadata": {
        "deletable": false,
        "editable": false,
        "id": "K1cH3VXSkeVT"
      },
      "source": [
        "<!-- END QUESTION -->\n",
        "\n"
      ]
    },
    {
      "cell_type": "markdown",
      "metadata": {
        "deletable": false,
        "editable": false,
        "id": "dFbLImRskeVU"
      },
      "source": [
        "## Submission\n",
        "\n",
        "Make sure you have run all cells in your notebook in order so that all images/graphs appear in the output. Export the notebook as a PDF and upload the PDF to Moodle."
      ]
    }
  ],
  "metadata": {
    "kernelspec": {
      "display_name": "Python 3",
      "language": "python",
      "name": "python3"
    },
    "language_info": {
      "codemirror_mode": {
        "name": "ipython",
        "version": 3
      },
      "file_extension": ".py",
      "mimetype": "text/x-python",
      "name": "python",
      "nbconvert_exporter": "python",
      "pygments_lexer": "ipython3",
      "version": "3.11.7"
    },
    "otter": {
      "OK_FORMAT": true,
      "tests": {}
    },
    "varInspector": {
      "cols": {
        "lenName": 16,
        "lenType": 16,
        "lenVar": 40
      },
      "kernels_config": {
        "python": {
          "delete_cmd_postfix": "",
          "delete_cmd_prefix": "del ",
          "library": "var_list.py",
          "varRefreshCmd": "print(var_dic_list())"
        },
        "r": {
          "delete_cmd_postfix": ") ",
          "delete_cmd_prefix": "rm(",
          "library": "var_list.r",
          "varRefreshCmd": "cat(var_dic_list()) "
        }
      },
      "types_to_exclude": [
        "module",
        "function",
        "builtin_function_or_method",
        "instance",
        "_Feature"
      ],
      "window_display": false
    },
    "colab": {
      "provenance": [],
      "include_colab_link": true
    }
  },
  "nbformat": 4,
  "nbformat_minor": 0
}