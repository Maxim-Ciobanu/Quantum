{
  "cells": [
    {
      "cell_type": "markdown",
      "metadata": {},
      "source": [
        "# Assignment III - 4110/5110/7110\n",
        "\n",
        "Feb 28, 2025\n",
        "\n",
        "### Name: Maxim Ciobanu\n",
        "\n",
        "\n",
        "This assignment is to be done individually. Please do not use AI tools. If you collaborate with someone in the class, mention their name.\n",
        "\n"
      ]
    },
    {
      "cell_type": "code",
      "execution_count": 2,
      "id": "86a40be3-8961-4023-becd-7fa0b0de5007",
      "metadata": {
        "id": "86a40be3-8961-4023-becd-7fa0b0de5007"
      },
      "outputs": [],
      "source": [
        "from random import random\n",
        "import numpy as np\n",
        "import matplotlib.pyplot as plt"
      ]
    },
    {
      "cell_type": "markdown",
      "id": "61f7f091-0afd-4f7b-8816-d4eba66b75bf",
      "metadata": {
        "id": "61f7f091-0afd-4f7b-8816-d4eba66b75bf"
      },
      "source": [
        "## Generate Data"
      ]
    },
    {
      "cell_type": "code",
      "execution_count": 3,
      "id": "275c1ec1-437d-4d9c-84d3-6700fae58055",
      "metadata": {
        "id": "275c1ec1-437d-4d9c-84d3-6700fae58055"
      },
      "outputs": [],
      "source": [
        "npoints = 50\n",
        "ncenters = 3"
      ]
    },
    {
      "cell_type": "code",
      "execution_count": 4,
      "id": "e1d967e4-5dcd-41cc-ba39-001eb3262cc2",
      "metadata": {
        "id": "e1d967e4-5dcd-41cc-ba39-001eb3262cc2"
      },
      "outputs": [],
      "source": [
        "data = [(random(), random()) for i in range(npoints)] + [(0.0+random(), 0.5+random()) for i in range(npoints)]"
      ]
    },
    {
      "cell_type": "code",
      "execution_count": 5,
      "id": "1ff75fde-17c8-47f2-bc2a-96cc797511d1",
      "metadata": {
        "colab": {
          "base_uri": "https://localhost:8080/",
          "height": 448
        },
        "id": "1ff75fde-17c8-47f2-bc2a-96cc797511d1",
        "outputId": "4edfde41-c253-4675-c0ec-14e9e00b6606"
      },
      "outputs": [
        {
          "data": {
            "text/plain": [
              "<matplotlib.collections.PathCollection at 0x28da9d28c50>"
            ]
          },
          "execution_count": 5,
          "metadata": {},
          "output_type": "execute_result"
        },
        {
          "data": {
            "image/png": "[encoded data removed]",
            "text/plain": [
              "<Figure size 640x480 with 1 Axes>"
            ]
          },
          "metadata": {},
          "output_type": "display_data"
        }
      ],
      "source": [
        "plt.scatter(*zip(*data))"
      ]
    },
    {
      "cell_type": "code",
      "execution_count": 6,
      "id": "d24e818d-b839-4fc1-aeb2-ba81d2dbb230",
      "metadata": {
        "id": "d24e818d-b839-4fc1-aeb2-ba81d2dbb230"
      },
      "outputs": [],
      "source": [
        "centers = [(random(),  random()) for i in range(ncenters)]"
      ]
    },
    {
      "cell_type": "markdown",
      "id": "a6296c66-441d-4bba-941e-33690a1d711f",
      "metadata": {
        "id": "a6296c66-441d-4bba-941e-33690a1d711f"
      },
      "source": [
        "## Define the distance and the k-means function"
      ]
    },
    {
      "cell_type": "code",
      "execution_count": 7,
      "id": "0ddd9a9b-02aa-4ff7-87f9-1692cf2f80e3",
      "metadata": {
        "id": "0ddd9a9b-02aa-4ff7-87f9-1692cf2f80e3"
      },
      "outputs": [],
      "source": [
        "def distance(point, center) :\n",
        "    return (center[0] - point[0])**2 + (center[1] - point[1])**2"
      ]
    },
    {
      "cell_type": "code",
      "execution_count": 8,
      "id": "047682c7-1315-4542-b129-57c22b0d1560",
      "metadata": {
        "id": "047682c7-1315-4542-b129-57c22b0d1560"
      },
      "outputs": [],
      "source": [
        "def kmeans(data, centers):\n",
        "    clusterid = np.zeros(len(data))\n",
        "    #print(clusterid.shape)\n",
        "    prevd = 10000\n",
        "    d = 0\n",
        "    td = []\n",
        "    while (1) :\n",
        "        j = 0\n",
        "        d = 0\n",
        "        for p in data :\n",
        "            dp = 100\n",
        "            i = 0\n",
        "            for c in centers :\n",
        "                #print(p,c)\n",
        "                #print(\"dp\", distance(p,c))\n",
        "                if (distance(p, c) < dp ) :\n",
        "                    clusterid[j] = i\n",
        "                    dp = distance(p,c)\n",
        "\n",
        "                i = i+1\n",
        "            d = d + dp\n",
        "\n",
        "            j = j+1\n",
        "        #print(clusterid)\n",
        "        # update the cluster centers\n",
        "\n",
        "        # save the total distance in the current iteration\n",
        "        td.append(d)\n",
        "        for idx in range(3) :\n",
        "            centers[idx] = tuple(sum([np.array(data[i]) for i in range(len(data)) if clusterid[i] == idx]) /\n",
        "                                 sum([1 for i in range(len(data)) if clusterid[i] == idx]) )\n",
        "        if (prevd - d > 0.0001) :\n",
        "            prevd = d\n",
        "        else:\n",
        "            break\n",
        "\n",
        "    return centers, clusterid, td"
      ]
    },
    {
      "cell_type": "code",
      "execution_count": 9,
      "id": "1913483e-9885-498b-890a-fdf910066fbe",
      "metadata": {
        "colab": {
          "base_uri": "https://localhost:8080/"
        },
        "id": "1913483e-9885-498b-890a-fdf910066fbe",
        "outputId": "6471eaa3-81f5-426c-928d-767058c5b959"
      },
      "outputs": [
        {
          "data": {
            "text/plain": [
              "[(0.3669059859582955, 0.8538732348972293),\n",
              " (0.5130370166375008, 0.6980009417198224),\n",
              " (0.3055063080588585, 0.37747118483344666)]"
            ]
          },
          "execution_count": 9,
          "metadata": {},
          "output_type": "execute_result"
        }
      ],
      "source": [
        "centers"
      ]
    },
    {
      "cell_type": "markdown",
      "id": "4f54da39-44ff-428a-9779-767e15250891",
      "metadata": {
        "id": "4f54da39-44ff-428a-9779-767e15250891"
      },
      "source": [
        "## Call the k-means and save and plot the results."
      ]
    },
    {
      "cell_type": "code",
      "execution_count": 10,
      "id": "4807f7d6-0678-449b-b813-a8f2cd24976e",
      "metadata": {
        "id": "4807f7d6-0678-449b-b813-a8f2cd24976e"
      },
      "outputs": [],
      "source": [
        "centers, colors, td = kmeans(data, centers)"
      ]
    },
    {
      "cell_type": "code",
      "execution_count": 11,
      "id": "c8d9a72a-6715-481d-ba6f-9f1e34212b53",
      "metadata": {
        "colab": {
          "base_uri": "https://localhost:8080/"
        },
        "id": "c8d9a72a-6715-481d-ba6f-9f1e34212b53",
        "outputId": "7a37962b-f442-4b65-f4f8-56b74db8d9f1"
      },
      "outputs": [
        {
          "data": {
            "text/plain": [
              "[(np.float64(0.26028031659053835), np.float64(0.9200814112831074)),\n",
              " (np.float64(0.7970143159759242), np.float64(0.9503846111647157)),\n",
              " (np.float64(0.5483492651408443), np.float64(0.3601022846610318))]"
            ]
          },
          "execution_count": 11,
          "metadata": {},
          "output_type": "execute_result"
        }
      ],
      "source": [
        "centers"
      ]
    },
    {
      "cell_type": "code",
      "execution_count": 17,
      "id": "9ac1d46c-8abd-4e5c-af8e-f72fccb3d33a",
      "metadata": {
        "colab": {
          "base_uri": "https://localhost:8080/",
          "height": 448
        },
        "id": "9ac1d46c-8abd-4e5c-af8e-f72fccb3d33a",
        "outputId": "4c6df2bd-230e-4b37-91b1-f95f58e238fd"
      },
      "outputs": [
        {
          "data": {
            "text/plain": [
              "<matplotlib.collections.PathCollection at 0x28dabf5e9d0>"
            ]
          },
          "execution_count": 17,
          "metadata": {},
          "output_type": "execute_result"
        },
        {
          "data": {
            "image/png": "[encoded data removed]",
            "text/plain": [
              "<Figure size 640x480 with 1 Axes>"
            ]
          },
          "metadata": {},
          "output_type": "display_data"
        }
      ],
      "source": [
        "plt.scatter(*zip(*data), c=colors)\n",
        "plt.scatter(*zip(*centers),color='magenta')"
      ]
    },
    {
      "cell_type": "code",
      "execution_count": 18,
      "id": "a75aabed-b01d-4c0a-87c6-78b644a4b4d7",
      "metadata": {
        "colab": {
          "base_uri": "https://localhost:8080/"
        },
        "id": "a75aabed-b01d-4c0a-87c6-78b644a4b4d7",
        "outputId": "90cb9d84-578d-4f24-efcc-797a74d0c0d1"
      },
      "outputs": [
        {
          "data": {
            "text/plain": [
              "[12.255949894350666,\n",
              " np.float64(8.521310528172164),\n",
              " np.float64(8.068827875879103),\n",
              " np.float64(7.583716431514358),\n",
              " np.float64(7.261156018113747),\n",
              " np.float64(7.174193555567588),\n",
              " np.float64(7.174193555567588)]"
            ]
          },
          "execution_count": 18,
          "metadata": {},
          "output_type": "execute_result"
        }
      ],
      "source": [
        "td"
      ]
    },
    {
      "cell_type": "markdown",
      "id": "1128e5ff-8c87-4c65-9daa-44524efd11b7",
      "metadata": {
        "id": "1128e5ff-8c87-4c65-9daa-44524efd11b7"
      },
      "source": [
        "## Plot the total distance in each iteration as a function of the iteration number\n",
        "\n",
        "This should be monotonically decreasing."
      ]
    },
    {
      "cell_type": "code",
      "execution_count": 19,
      "id": "9c701b92-2e33-4c8f-bed5-d72ab3c4b100",
      "metadata": {
        "colab": {
          "base_uri": "https://localhost:8080/",
          "height": 448
        },
        "id": "9c701b92-2e33-4c8f-bed5-d72ab3c4b100",
        "outputId": "f331f17e-7c38-456a-c9d3-409aa431dbb2"
      },
      "outputs": [
        {
          "data": {
            "text/plain": [
              "[<matplotlib.lines.Line2D at 0x28d89a90350>]"
            ]
          },
          "execution_count": 19,
          "metadata": {},
          "output_type": "execute_result"
        },
        {
          "data": {
            "image/png": "[encoded data removed]",
            "text/plain": [
              "<Figure size 640x480 with 1 Axes>"
            ]
          },
          "metadata": {},
          "output_type": "display_data"
        }
      ],
      "source": [
        "plt.plot(td)"
      ]
    },
    {
      "cell_type": "markdown",
      "id": "472b5966-9ebd-42a5-acbc-7374c2fca01f",
      "metadata": {
        "id": "472b5966-9ebd-42a5-acbc-7374c2fca01f"
      },
      "source": [
        "## Assignment\n",
        "\n",
        "You task is to implement the distance function using the swap-test as discussed in the class. The boiler plate code for qiskit needed to import the libraries and conduct the simulation in not provided here. You can use the code from the previous assignment (or lookup the qiskit documentation).\n",
        "\n",
        "Following three things are expected as part of your submission.\n",
        "\n",
        "1. The code for swap-test implementation of the distance function.\n",
        "2. The clustering obtained using the swap-test, i.e., plot the second figure in the notebook.\n",
        "\n",
        "\n",
        "\n",
        "3. For each point $p$, define $d_p$ to be the distance to the closest center. The total distance is then\n",
        "$\\sum_p d_p$. Plot the total distance as a function of iteration number (as in the last plot above).\n",
        "\n",
        "Run  your test on a larger sized - different input - generated randomly.\n",
        "\n",
        "**Submission**: Please run the notebook and export/save it as PDF. Sometimes chrome works better at exporting the PDF then other browsers. Submit a single PDF file. Do remember to write your name on the submission"
      ]
    },
    {
      "cell_type": "code",
      "execution_count": null,
      "id": "4ee101dc-33bc-4d1e-affe-321919048c15",
      "metadata": {
        "id": "4ee101dc-33bc-4d1e-affe-321919048c15"
      },
      "outputs": [],
      "source": []
    },
    {
      "cell_type": "markdown",
      "id": "ca75c5eb",
      "metadata": {},
      "source": [
        "# Test"
      ]
    }
  ],
  "metadata": {
    "colab": {
      "provenance": []
    },
    "kernelspec": {
      "display_name": "Python 3",
      "language": "python",
      "name": "python3"
    },
    "language_info": {
      "codemirror_mode": {
        "name": "ipython",
        "version": 3
      },
      "file_extension": ".py",
      "mimetype": "text/x-python",
      "name": "python",
      "nbconvert_exporter": "python",
      "pygments_lexer": "ipython3",
      "version": "3.11.9"
    }
  },
  "nbformat": 4,
  "nbformat_minor": 5
}
